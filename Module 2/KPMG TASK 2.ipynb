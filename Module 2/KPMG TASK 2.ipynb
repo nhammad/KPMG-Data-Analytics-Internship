{
 "cells": [
  {
   "cell_type": "code",
   "execution_count": 1,
   "metadata": {},
   "outputs": [],
   "source": [
    "import pandas as pd\n",
    "import datetime as DT\n",
    "import numpy as np\n",
    "import matplotlib.pyplot as plt "
   ]
  },
  {
   "cell_type": "markdown",
   "metadata": {},
   "source": [
    "# Customer Demographics\n",
    "\n",
    "Upon loading the dataset, we see that the first row is just a notice. Hence, we skip it while reading it. \n",
    "\n",
    "Then, we check its shape to see the number of rows and columns (features). Next, we check if there are duplicates for the customer id field. Luckily, there are none.\n",
    "\n",
    "The default columns seems quite absurd and useless. It's best to drop it in the early stage."
   ]
  },
  {
   "cell_type": "code",
   "execution_count": 2,
   "metadata": {},
   "outputs": [
    {
     "name": "stdout",
     "output_type": "stream",
     "text": [
      "Number of Customer Id Entries:  4000\n",
      "Number of Features:  13 \n",
      "\n",
      "Number of Duplicates 0\n"
     ]
    },
    {
     "data": {
      "text/html": [
       "<div>\n",
       "<style scoped>\n",
       "    .dataframe tbody tr th:only-of-type {\n",
       "        vertical-align: middle;\n",
       "    }\n",
       "\n",
       "    .dataframe tbody tr th {\n",
       "        vertical-align: top;\n",
       "    }\n",
       "\n",
       "    .dataframe thead th {\n",
       "        text-align: right;\n",
       "    }\n",
       "</style>\n",
       "<table border=\"1\" class=\"dataframe\">\n",
       "  <thead>\n",
       "    <tr style=\"text-align: right;\">\n",
       "      <th></th>\n",
       "      <th>customer_id</th>\n",
       "      <th>first_name</th>\n",
       "      <th>last_name</th>\n",
       "      <th>gender</th>\n",
       "      <th>past_3_years_bike_related_purchases</th>\n",
       "      <th>DOB</th>\n",
       "      <th>job_title</th>\n",
       "      <th>job_industry_category</th>\n",
       "      <th>wealth_segment</th>\n",
       "      <th>deceased_indicator</th>\n",
       "      <th>owns_car</th>\n",
       "      <th>tenure</th>\n",
       "    </tr>\n",
       "  </thead>\n",
       "  <tbody>\n",
       "    <tr>\n",
       "      <th>0</th>\n",
       "      <td>1</td>\n",
       "      <td>Laraine</td>\n",
       "      <td>Medendorp</td>\n",
       "      <td>F</td>\n",
       "      <td>93</td>\n",
       "      <td>1953-10-12</td>\n",
       "      <td>Executive Secretary</td>\n",
       "      <td>Health</td>\n",
       "      <td>Mass Customer</td>\n",
       "      <td>N</td>\n",
       "      <td>Yes</td>\n",
       "      <td>11.0</td>\n",
       "    </tr>\n",
       "    <tr>\n",
       "      <th>1</th>\n",
       "      <td>2</td>\n",
       "      <td>Eli</td>\n",
       "      <td>Bockman</td>\n",
       "      <td>Male</td>\n",
       "      <td>81</td>\n",
       "      <td>1980-12-16</td>\n",
       "      <td>Administrative Officer</td>\n",
       "      <td>Financial Services</td>\n",
       "      <td>Mass Customer</td>\n",
       "      <td>N</td>\n",
       "      <td>Yes</td>\n",
       "      <td>16.0</td>\n",
       "    </tr>\n",
       "    <tr>\n",
       "      <th>2</th>\n",
       "      <td>3</td>\n",
       "      <td>Arlin</td>\n",
       "      <td>Dearle</td>\n",
       "      <td>Male</td>\n",
       "      <td>61</td>\n",
       "      <td>1954-01-20</td>\n",
       "      <td>Recruiting Manager</td>\n",
       "      <td>Property</td>\n",
       "      <td>Mass Customer</td>\n",
       "      <td>N</td>\n",
       "      <td>Yes</td>\n",
       "      <td>15.0</td>\n",
       "    </tr>\n",
       "    <tr>\n",
       "      <th>3</th>\n",
       "      <td>4</td>\n",
       "      <td>Talbot</td>\n",
       "      <td>NaN</td>\n",
       "      <td>Male</td>\n",
       "      <td>33</td>\n",
       "      <td>1961-10-03</td>\n",
       "      <td>NaN</td>\n",
       "      <td>IT</td>\n",
       "      <td>Mass Customer</td>\n",
       "      <td>N</td>\n",
       "      <td>No</td>\n",
       "      <td>7.0</td>\n",
       "    </tr>\n",
       "    <tr>\n",
       "      <th>4</th>\n",
       "      <td>5</td>\n",
       "      <td>Sheila-kathryn</td>\n",
       "      <td>Calton</td>\n",
       "      <td>Female</td>\n",
       "      <td>56</td>\n",
       "      <td>1977-05-13</td>\n",
       "      <td>Senior Editor</td>\n",
       "      <td>NaN</td>\n",
       "      <td>Affluent Customer</td>\n",
       "      <td>N</td>\n",
       "      <td>Yes</td>\n",
       "      <td>8.0</td>\n",
       "    </tr>\n",
       "  </tbody>\n",
       "</table>\n",
       "</div>"
      ],
      "text/plain": [
       "   customer_id      first_name  last_name  gender  \\\n",
       "0            1         Laraine  Medendorp       F   \n",
       "1            2             Eli    Bockman    Male   \n",
       "2            3           Arlin     Dearle    Male   \n",
       "3            4          Talbot        NaN    Male   \n",
       "4            5  Sheila-kathryn     Calton  Female   \n",
       "\n",
       "   past_3_years_bike_related_purchases        DOB               job_title  \\\n",
       "0                                   93 1953-10-12     Executive Secretary   \n",
       "1                                   81 1980-12-16  Administrative Officer   \n",
       "2                                   61 1954-01-20      Recruiting Manager   \n",
       "3                                   33 1961-10-03                     NaN   \n",
       "4                                   56 1977-05-13           Senior Editor   \n",
       "\n",
       "  job_industry_category     wealth_segment deceased_indicator owns_car  tenure  \n",
       "0                Health      Mass Customer                  N      Yes    11.0  \n",
       "1    Financial Services      Mass Customer                  N      Yes    16.0  \n",
       "2              Property      Mass Customer                  N      Yes    15.0  \n",
       "3                    IT      Mass Customer                  N       No     7.0  \n",
       "4                   NaN  Affluent Customer                  N      Yes     8.0  "
      ]
     },
     "execution_count": 2,
     "metadata": {},
     "output_type": "execute_result"
    }
   ],
   "source": [
    "df = pd.read_excel(\"KPMG_VI_New_raw_data_update_final.xlsx\", sheet_name=3, skiprows=1)\n",
    "\n",
    "rows = df.shape[0]\n",
    "cols = df.shape[1]\n",
    "print(\"Number of Customer Id Entries: \", rows)\n",
    "print(\"Number of Features: \", cols, \"\\n\" )\n",
    "\n",
    "print(\"Number of Duplicates\", len(df['customer_id'])-len(df['customer_id'].drop_duplicates()))\n",
    "\n",
    "df = df.drop(['default'], axis=1)\n",
    "df.head()\n"
   ]
  },
  {
   "cell_type": "markdown",
   "metadata": {},
   "source": [
    "## Checking for Null Values\n",
    "\n",
    "Now, we check the number of null values in all columns. We observe that there are around 125 N/A values for the last name. However, since last names might not have any impact on our business strategy, we can choose to ignore that column. However, DOB is a valuable asset for us. Hence, we drop the rows which have null values for the DOB.\n",
    "\n",
    "Similarly, job titles could also be useful for us. Hence, we drop the rows which have null values for the job title as well."
   ]
  },
  {
   "cell_type": "code",
   "execution_count": 3,
   "metadata": {},
   "outputs": [
    {
     "name": "stdout",
     "output_type": "stream",
     "text": [
      "Number of Initial Null Values: \n",
      "customer_id                              0\n",
      "first_name                               0\n",
      "last_name                              125\n",
      "gender                                   0\n",
      "past_3_years_bike_related_purchases      0\n",
      "DOB                                     87\n",
      "job_title                              506\n",
      "job_industry_category                  656\n",
      "wealth_segment                           0\n",
      "deceased_indicator                       0\n",
      "owns_car                                 0\n",
      "tenure                                  87\n",
      "dtype: int64 \n",
      "\n"
     ]
    }
   ],
   "source": [
    "print(\"Number of Initial Null Values: \")\n",
    "print(df.isnull().sum(axis = 0),\"\\n\")\n",
    "\n",
    "df = df[df['DOB'].notnull()]\n",
    "df = df[df['job_title'].notnull()]"
   ]
  },
  {
   "cell_type": "markdown",
   "metadata": {},
   "source": [
    "## Customer Ages\n",
    "\n",
    "When preparing business and marketing strategies, targeting the right age bracket is quite essential. Hence, we need to know the exact ages of our customers. For this, we can add a new column for customer ages. We can calculate ages by subtracting the DOB from the current date. "
   ]
  },
  {
   "cell_type": "code",
   "execution_count": 4,
   "metadata": {},
   "outputs": [
    {
     "data": {
      "text/html": [
       "<div>\n",
       "<style scoped>\n",
       "    .dataframe tbody tr th:only-of-type {\n",
       "        vertical-align: middle;\n",
       "    }\n",
       "\n",
       "    .dataframe tbody tr th {\n",
       "        vertical-align: top;\n",
       "    }\n",
       "\n",
       "    .dataframe thead th {\n",
       "        text-align: right;\n",
       "    }\n",
       "</style>\n",
       "<table border=\"1\" class=\"dataframe\">\n",
       "  <thead>\n",
       "    <tr style=\"text-align: right;\">\n",
       "      <th></th>\n",
       "      <th>customer_id</th>\n",
       "      <th>first_name</th>\n",
       "      <th>last_name</th>\n",
       "      <th>gender</th>\n",
       "      <th>past_3_years_bike_related_purchases</th>\n",
       "      <th>DOB</th>\n",
       "      <th>job_title</th>\n",
       "      <th>job_industry_category</th>\n",
       "      <th>wealth_segment</th>\n",
       "      <th>deceased_indicator</th>\n",
       "      <th>owns_car</th>\n",
       "      <th>tenure</th>\n",
       "      <th>age</th>\n",
       "    </tr>\n",
       "  </thead>\n",
       "  <tbody>\n",
       "    <tr>\n",
       "      <th>0</th>\n",
       "      <td>1</td>\n",
       "      <td>Laraine</td>\n",
       "      <td>Medendorp</td>\n",
       "      <td>F</td>\n",
       "      <td>93</td>\n",
       "      <td>1953-10-12</td>\n",
       "      <td>Executive Secretary</td>\n",
       "      <td>Health</td>\n",
       "      <td>Mass Customer</td>\n",
       "      <td>N</td>\n",
       "      <td>Yes</td>\n",
       "      <td>11.0</td>\n",
       "      <td>66</td>\n",
       "    </tr>\n",
       "    <tr>\n",
       "      <th>1</th>\n",
       "      <td>2</td>\n",
       "      <td>Eli</td>\n",
       "      <td>Bockman</td>\n",
       "      <td>Male</td>\n",
       "      <td>81</td>\n",
       "      <td>1980-12-16</td>\n",
       "      <td>Administrative Officer</td>\n",
       "      <td>Financial Services</td>\n",
       "      <td>Mass Customer</td>\n",
       "      <td>N</td>\n",
       "      <td>Yes</td>\n",
       "      <td>16.0</td>\n",
       "      <td>39</td>\n",
       "    </tr>\n",
       "    <tr>\n",
       "      <th>2</th>\n",
       "      <td>3</td>\n",
       "      <td>Arlin</td>\n",
       "      <td>Dearle</td>\n",
       "      <td>Male</td>\n",
       "      <td>61</td>\n",
       "      <td>1954-01-20</td>\n",
       "      <td>Recruiting Manager</td>\n",
       "      <td>Property</td>\n",
       "      <td>Mass Customer</td>\n",
       "      <td>N</td>\n",
       "      <td>Yes</td>\n",
       "      <td>15.0</td>\n",
       "      <td>66</td>\n",
       "    </tr>\n",
       "    <tr>\n",
       "      <th>3</th>\n",
       "      <td>5</td>\n",
       "      <td>Sheila-kathryn</td>\n",
       "      <td>Calton</td>\n",
       "      <td>Female</td>\n",
       "      <td>56</td>\n",
       "      <td>1977-05-13</td>\n",
       "      <td>Senior Editor</td>\n",
       "      <td>NaN</td>\n",
       "      <td>Affluent Customer</td>\n",
       "      <td>N</td>\n",
       "      <td>Yes</td>\n",
       "      <td>8.0</td>\n",
       "      <td>43</td>\n",
       "    </tr>\n",
       "    <tr>\n",
       "      <th>4</th>\n",
       "      <td>8</td>\n",
       "      <td>Rod</td>\n",
       "      <td>Inder</td>\n",
       "      <td>Male</td>\n",
       "      <td>31</td>\n",
       "      <td>1962-03-30</td>\n",
       "      <td>Media Manager I</td>\n",
       "      <td>NaN</td>\n",
       "      <td>Mass Customer</td>\n",
       "      <td>N</td>\n",
       "      <td>No</td>\n",
       "      <td>7.0</td>\n",
       "      <td>58</td>\n",
       "    </tr>\n",
       "  </tbody>\n",
       "</table>\n",
       "</div>"
      ],
      "text/plain": [
       "   customer_id      first_name  last_name  gender  \\\n",
       "0            1         Laraine  Medendorp       F   \n",
       "1            2             Eli    Bockman    Male   \n",
       "2            3           Arlin     Dearle    Male   \n",
       "3            5  Sheila-kathryn     Calton  Female   \n",
       "4            8             Rod      Inder    Male   \n",
       "\n",
       "   past_3_years_bike_related_purchases        DOB               job_title  \\\n",
       "0                                   93 1953-10-12     Executive Secretary   \n",
       "1                                   81 1980-12-16  Administrative Officer   \n",
       "2                                   61 1954-01-20      Recruiting Manager   \n",
       "3                                   56 1977-05-13           Senior Editor   \n",
       "4                                   31 1962-03-30         Media Manager I   \n",
       "\n",
       "  job_industry_category     wealth_segment deceased_indicator owns_car  \\\n",
       "0                Health      Mass Customer                  N      Yes   \n",
       "1    Financial Services      Mass Customer                  N      Yes   \n",
       "2              Property      Mass Customer                  N      Yes   \n",
       "3                   NaN  Affluent Customer                  N      Yes   \n",
       "4                   NaN      Mass Customer                  N       No   \n",
       "\n",
       "   tenure  age  \n",
       "0    11.0   66  \n",
       "1    16.0   39  \n",
       "2    15.0   66  \n",
       "3     8.0   43  \n",
       "4     7.0   58  "
      ]
     },
     "execution_count": 4,
     "metadata": {},
     "output_type": "execute_result"
    }
   ],
   "source": [
    "now = pd.Timestamp('now')\n",
    "df['age'] = (now - df['DOB']).astype('<m8[Y]')\n",
    "df['age'] = df['age'].astype(np.int64)\n",
    "df = df.reset_index(drop = True)\n",
    "df.head()"
   ]
  },
  {
   "cell_type": "markdown",
   "metadata": {},
   "source": [
    "## Removing Contradiction in Genders\n",
    "\n",
    "We notice that the values in the gender column are not consistent. By looking at the value counts, we observe that F and Female both represent the same thing. Similarly, M and Male represent the same thing. Additionally, terms U and Femal are also present in the dataset.\n",
    "\n",
    "To fix this, we can replace Female/Femal with F and Male with M everywhere. Then, we can get rid of the row where gender is undefined (U). After this, the dataset seems to look good to go. \n"
   ]
  },
  {
   "cell_type": "code",
   "execution_count": 5,
   "metadata": {},
   "outputs": [
    {
     "name": "stdout",
     "output_type": "stream",
     "text": [
      "Female    1769\n",
      "Male      1643\n",
      "F            1\n",
      "M            1\n",
      "U            1\n",
      "Femal        1\n",
      "Name: gender, dtype: int64 \n",
      "\n"
     ]
    }
   ],
   "source": [
    "print(df.gender.value_counts(),\"\\n\")\n",
    "df[\"gender\"].replace({\"Female\": \"F\", \"Male\": \"M\", \"Femal\": \"F\"}, inplace=True)"
   ]
  },
  {
   "cell_type": "markdown",
   "metadata": {},
   "source": [
    "## Visualizing Purchases Based on Gender\n",
    "\n",
    "First we plot a bar chart of number of purchases according to different genders. Since the value for U is really small, we can drop that value and then visualize again."
   ]
  },
  {
   "cell_type": "code",
   "execution_count": 6,
   "metadata": {},
   "outputs": [
    {
     "data": {
      "image/png": "[encoded data removed]",
      "text/plain": [
       "<Figure size 576x576 with 1 Axes>"
      ]
     },
     "metadata": {
      "needs_background": "light"
     },
     "output_type": "display_data"
    },
    {
     "data": {
      "image/png": "[encoded data removed]",
      "text/plain": [
       "<Figure size 576x576 with 1 Axes>"
      ]
     },
     "metadata": {
      "needs_background": "light"
     },
     "output_type": "display_data"
    }
   ],
   "source": [
    "total = df.gender.size\n",
    "females = (df.gender == \"F\").sum()\n",
    "males = (df.gender == \"M\").sum()\n",
    "unknown = (df.gender == \"U\").sum()\n",
    "\n",
    "gender = ['Male', 'Female', 'Unknown']\n",
    "numbers = [males, females, unknown]\n",
    "\n",
    "plt.figure(figsize=(8,8))\n",
    "bars = plt.bar(gender, numbers, width=0.4, bottom=None, align='center', data=None, color='cornflowerblue')\n",
    "plt.xlim(-0.9, len(gender) - 1 + 0.9)\n",
    "for i in range(len(numbers)):\n",
    "    percentage = ((numbers[i]/total)*100)\n",
    "    percentage = str(round(percentage,2)) + \" %\"\n",
    "    plt.annotate(percentage, xy=(gender[i], numbers[i] + 10), ha='center')\n",
    "plt.xlabel('Gender')\n",
    "plt.ylabel('Number of Customers')\n",
    "plt.title('Gender Distribution of Customers')\n",
    "plt.show()\n",
    "\n",
    "df = df[df['gender'] != \"U\"]\n",
    "\n",
    "females = (df.gender == \"F\").sum()\n",
    "males = (df.gender == \"M\").sum()\n",
    "\n",
    "gender = ['Male', 'Female']\n",
    "numbers = [males, females]\n",
    "\n",
    "plt.figure(figsize=(8,8))\n",
    "bars = plt.bar(gender, numbers, width=0.5, bottom=None, align='center', data=None, color='cornflowerblue')\n",
    "plt.xlim(-0.9, len(gender) - 1 + 0.9)\n",
    "for i in range(len(numbers)):\n",
    "    percentage = ((numbers[i]/(total-1))*100)\n",
    "    percentage = str(int(percentage)) + \" %\"\n",
    "    plt.annotate(percentage, xy=(gender[i], numbers[i] + 10), ha='center')\n",
    "plt.xlabel('Gender')\n",
    "plt.ylabel('Number of Customers')\n",
    "plt.title('Gender Distribution of Customers')\n",
    "plt.show()"
   ]
  },
  {
   "cell_type": "markdown",
   "metadata": {},
   "source": [
    "## Visualizing Purchases Based on Age Groups\n",
    "\n",
    "First we check the average age. Then, we plot a bar chart to see how the number of purchases are distributed amongst different age groups."
   ]
  },
  {
   "cell_type": "code",
   "execution_count": 7,
   "metadata": {},
   "outputs": [
    {
     "name": "stdout",
     "output_type": "stream",
     "text": [
      "Average Age 42\n"
     ]
    },
    {
     "data": {
      "image/png": "[encoded data removed]",
      "text/plain": [
       "<Figure size 576x576 with 1 Axes>"
      ]
     },
     "metadata": {
      "needs_background": "light"
     },
     "output_type": "display_data"
    }
   ],
   "source": [
    "print(\"Average Age\" , int(df.age.mean()))\n",
    "\n",
    "under20 = 0\n",
    "_20To30 = 0\n",
    "_30To40 = 0\n",
    "_40To50 = 0\n",
    "_50To60 = 0\n",
    "_60To70 = 0\n",
    "_70To80 = 0\n",
    "above80 = 0\n",
    "\n",
    "size = df.gender.size\n",
    "\n",
    "for value in df['age']:\n",
    "   if(value<20):\n",
    "    under20+=1\n",
    "   elif (value >=20 and value <30):\n",
    "    _20To30 += 1\n",
    "   elif (value >= 30 and value <40):\n",
    "    _30To40 += 1\n",
    "   elif (value >= 40 and value <50):\n",
    "    _40To50 += 1\n",
    "   elif (value >= 50 and value <60):\n",
    "    _50To60 += 1\n",
    "   elif (value >= 60 and value <70):\n",
    "    _60To70 += 1\n",
    "   elif (value >= 70 and value <80):\n",
    "    _70To80 += 1\n",
    "   else:\n",
    "    above80 += 1\n",
    "\n",
    "    \n",
    "ageGroups = ['<20','20-29', '30-39','40-49','50-59','60-69','70-79','80+']\n",
    "numbers = [under20, _20To30, _30To40, _40To50, _50To60, _60To70, _70To80, above80]\n",
    "\n",
    "plt.figure(figsize=(8,8))\n",
    "bars = plt.bar(ageGroups, numbers, width=0.5, bottom=None, align='center', data=None, color='cornflowerblue')\n",
    "plt.xlim(-0.9, len(ageGroups) - 1 + 0.9)\n",
    "for i in range(len(numbers)):\n",
    "    percentage = ((numbers[i]/(size))*100)\n",
    "    percentage = str(round(percentage,2)) + \" %\"\n",
    "    plt.annotate(percentage, xy=(ageGroups[i], numbers[i] + 10), ha='center')\n",
    "plt.xlabel('Age Group')\n",
    "plt.ylabel('Number of Customers')\n",
    "plt.title('Age Distribution of Customers')\n",
    "plt.show()"
   ]
  },
  {
   "cell_type": "markdown",
   "metadata": {},
   "source": [
    "## Visualizing Purchases Based on Gender & Age Groups"
   ]
  },
  {
   "cell_type": "code",
   "execution_count": 8,
   "metadata": {},
   "outputs": [
    {
     "data": {
      "image/png": "[encoded data removed]",
      "text/plain": [
       "<Figure size 1080x720 with 1 Axes>"
      ]
     },
     "metadata": {
      "needs_background": "light"
     },
     "output_type": "display_data"
    }
   ],
   "source": [
    "femalesUnder20 = 0\n",
    "females20To30 = 0\n",
    "females30To40 = 0\n",
    "females40To50 = 0\n",
    "females50To60 = 0\n",
    "females60To70 = 0\n",
    "females70To80 = 0\n",
    "femalesAbove80 = 0\n",
    "\n",
    "femaleAgesData = df[df['gender']==\"F\"]\n",
    "\n",
    "for value in femaleAgesData['age']:\n",
    "   if(value<20):\n",
    "    femalesUnder20+=1\n",
    "   elif (value >=20 and value <30):\n",
    "    females20To30 += 1\n",
    "   elif (value >= 30 and value <40):\n",
    "    females30To40 += 1\n",
    "   elif (value >= 40 and value <50):\n",
    "    females40To50 += 1\n",
    "   elif (value >= 50 and value <60):\n",
    "    females50To60 += 1\n",
    "   elif (value >= 60 and value <70):\n",
    "    females60To70 += 1\n",
    "   elif (value >= 70 and value <80):\n",
    "    females70To80 += 1\n",
    "   else:\n",
    "    femalesAbove80 += 1\n",
    "\n",
    "\n",
    "malesUnder20 = 0\n",
    "males20To30 = 0\n",
    "males30To40 = 0\n",
    "males40To50 = 0\n",
    "males50To60 = 0\n",
    "males60To70 = 0\n",
    "males70To80 = 0\n",
    "malesAbove80 = 0\n",
    "    \n",
    "maleAgesData = df[df['gender']==\"M\"]\n",
    "\n",
    "for value in maleAgesData['age']:\n",
    "   if(value<20):\n",
    "    malesUnder20+=1\n",
    "   elif (value >=20 and value <30):\n",
    "    males20To30 += 1\n",
    "   elif (value >= 30 and value <40):\n",
    "    males30To40 += 1\n",
    "   elif (value >= 40 and value <50):\n",
    "    males40To50 += 1\n",
    "   elif (value >= 50 and value <60):\n",
    "    males50To60 += 1\n",
    "   elif (value >= 60 and value <70):\n",
    "    males60To70 += 1\n",
    "   elif (value >= 70 and value <80):\n",
    "    males70To80 += 1\n",
    "   else:\n",
    "    malesAbove80 += 1\n",
    "\n",
    "N = 8\n",
    "labels = ['<20','20-29', '30-39','40-49','50-59','60-69','70-79','80+']\n",
    "maleAges = (malesUnder20, males20To30, males30To40, males40To50, males50To60, males60To70, males70To80,malesAbove80)\n",
    "femaleAges = (femalesUnder20, females20To30,males30To40, females40To50, females50To60, females60To70, females70To80,femalesAbove80)\n",
    "ind = np.arange(N) \n",
    "width = 0.35  \n",
    "\n",
    "\n",
    "figure, axes = plt.subplots()\n",
    "figure.set_size_inches(15, 10, forward=True)\n",
    "plt.bar(ind, maleAges , width, label='Male', color='cornflowerblue')\n",
    "plt.bar(ind + width, femaleAges, width, label='Female', color='hotpink')\n",
    "\n",
    "plt.xlabel('Age Groups')\n",
    "plt.ylabel('Number of Customers')\n",
    "plt.title('Average Ages of Customers')\n",
    "\n",
    "plt.xticks(ind + width / 2,  ('<20','20-29', '30-39','40-49','50-59','60-69','70-79','80+'))\n",
    "\n",
    "for p in axes.patches:\n",
    "    axes.annotate(f'{np.round((p.get_height()/total)*100, decimals=2)}%',\n",
    "                xy=(p.get_x()+p.get_width()/2., p.get_height()),\n",
    "                ha='center',\n",
    "                va='center',\n",
    "                xytext=(0, 10),\n",
    "                textcoords='offset points')\n",
    "    \n",
    "plt.legend(loc='best')\n",
    "plt.show()"
   ]
  },
  {
   "cell_type": "markdown",
   "metadata": {},
   "source": [
    "## Visualizing Purchases Based on Industries"
   ]
  },
  {
   "cell_type": "code",
   "execution_count": 9,
   "metadata": {},
   "outputs": [
    {
     "name": "stdout",
     "output_type": "stream",
     "text": [
      "Manufacturing         695\n",
      "Financial Services    682\n",
      "Health                543\n",
      "Retail                305\n",
      "Property              231\n",
      "IT                    126\n",
      "Entertainment         122\n",
      "Argiculture            99\n",
      "Telecommunications     61\n",
      "Name: job_industry_category, dtype: int64 \n",
      "\n"
     ]
    },
    {
     "data": {
      "image/png": "[encoded data removed]",
      "text/plain": [
       "<Figure size 1152x432 with 1 Axes>"
      ]
     },
     "metadata": {
      "needs_background": "light"
     },
     "output_type": "display_data"
    }
   ],
   "source": [
    "print(df.job_industry_category.value_counts(),\"\\n\")\n",
    "\n",
    "total = df.job_industry_category.size\n",
    "null_values = sum(pd.isnull(df['job_industry_category']))\n",
    "total = total-null_values\n",
    "\n",
    "industries = (df['job_industry_category'].sort_values()).value_counts().keys().tolist()\n",
    "counts = (df['job_industry_category'].sort_values()).value_counts().tolist()\n",
    "\n",
    "data = sorted(zip(industries, counts), key=lambda v: v[1], reverse=True)\n",
    "\n",
    "plt.figure(figsize=(16, 6))\n",
    "for (i, c) in data: \n",
    "    bars = plt.bar(i, c, width=0.2, bottom=None, align='center', data=None, color='cornflowerblue')\n",
    "    plt.annotate(f'{int((c/total)*100)}%\\n', xy=(i, c), va='center', ha='center')\n",
    "plt.xlim(-0.9, len(industries) - 1 + 0.9)\n",
    "plt.xlabel('Industry')\n",
    "plt.ylabel('Number of Customers')\n",
    "plt.title('Industry Distribution of Customers')\n",
    "plt.show()"
   ]
  },
  {
   "cell_type": "markdown",
   "metadata": {},
   "source": [
    "## Visualizing Purchases Based on Wealth Segments"
   ]
  },
  {
   "cell_type": "code",
   "execution_count": 10,
   "metadata": {},
   "outputs": [
    {
     "name": "stdout",
     "output_type": "stream",
     "text": [
      "Mass Customer        1695\n",
      "High Net Worth        871\n",
      "Affluent Customer     849\n",
      "Name: wealth_segment, dtype: int64 \n",
      "\n"
     ]
    },
    {
     "data": {
      "image/png": "[encoded data removed]",
      "text/plain": [
       "<Figure size 1152x432 with 1 Axes>"
      ]
     },
     "metadata": {
      "needs_background": "light"
     },
     "output_type": "display_data"
    }
   ],
   "source": [
    "print(df.wealth_segment.value_counts(),\"\\n\")\n",
    "\n",
    "total = df.wealth_segment.size\n",
    "null_values = sum(pd.isnull(df['wealth_segment']))\n",
    "total = total-null_values\n",
    "\n",
    "segments = (df['wealth_segment'].sort_values()).value_counts().keys().tolist()\n",
    "counts = (df['wealth_segment'].sort_values()).value_counts().tolist()\n",
    "\n",
    "data = sorted(zip(segments, counts), key=lambda v: v[1], reverse=True)\n",
    "\n",
    "plt.figure(figsize=(16, 6))\n",
    "for (i, c) in data: \n",
    "    bars = plt.bar(i, c, width=0.2, bottom=None, align='center', data=None, color='cornflowerblue')\n",
    "    plt.annotate(f'{int((c/total)*100)}%\\n', xy=(i, c), va='center', ha='center')\n",
    "plt.xlim(-0.9, len(segments) - 1 + 0.9)\n",
    "plt.xlabel('Wealth Segment')\n",
    "plt.ylabel('Number of Customers')\n",
    "plt.title('Wealth Segment Distribution of Customers')\n",
    "plt.show()"
   ]
  },
  {
   "cell_type": "markdown",
   "metadata": {},
   "source": [
    "## Visualizing Purchases Based on Whether the Customers Own A Car or Not"
   ]
  },
  {
   "cell_type": "code",
   "execution_count": 11,
   "metadata": {
    "scrolled": true
   },
   "outputs": [
    {
     "name": "stdout",
     "output_type": "stream",
     "text": [
      "Yes    1734\n",
      "No     1681\n",
      "Name: owns_car, dtype: int64 \n",
      "\n"
     ]
    },
    {
     "data": {
      "image/png": "[encoded data removed]",
      "text/plain": [
       "<Figure size 432x288 with 1 Axes>"
      ]
     },
     "metadata": {},
     "output_type": "display_data"
    }
   ],
   "source": [
    "print(df.owns_car.value_counts(),\"\\n\")\n",
    "\n",
    "labels = (df['owns_car'].sort_values()).value_counts().keys().tolist()\n",
    "counts = (df['owns_car'].sort_values()).value_counts().tolist()\n",
    "\n",
    "figureObject, axesObject = plt.subplots()\n",
    "axesObject.pie(counts, labels=labels, autopct='%1.0f', colors=['tomato','springgreen'])\n",
    "axesObject.axis('equal')\n",
    "plt.title(\"Do Customers Own Cars or Not? (%)\", bbox={'facecolor':'0.8', 'pad':5})\n",
    "plt.show()\n"
   ]
  },
  {
   "cell_type": "markdown",
   "metadata": {},
   "source": [
    "# Customer Addresses\n",
    "\n",
    "Now it's time to involve the second dataset.\n",
    "\n",
    "## Removing Contradiction in States\n",
    "\n",
    "Upon seeing the head of our dataset, we observe something strange. Some state names are written full while others are abbreviations. To investigate further, we can check the value counts. After checking the value counts, we realize that there's a contradition in state names. For instance, New South Wales and NSW is the same but are written separately. Same is the case with Victoria and VIC. Hence, we make the necessary replacements."
   ]
  },
  {
   "cell_type": "code",
   "execution_count": 12,
   "metadata": {},
   "outputs": [
    {
     "name": "stdout",
     "output_type": "stream",
     "text": [
      "NSW                2054\n",
      "VIC                 939\n",
      "QLD                 838\n",
      "New South Wales      86\n",
      "Victoria             82\n",
      "Name: state, dtype: int64 \n",
      "\n"
     ]
    }
   ],
   "source": [
    "customerAddressDF = pd.read_excel(\"KPMG_VI_New_raw_data_update_final.xlsx\", sheet_name=4, skiprows=1)\n",
    "print(customerAddressDF.state.value_counts(),\"\\n\")\n",
    "customerAddressDF[\"state\"].replace({\"New South Wales\": \"NSW\", \"Victoria\": \"VIC\"}, inplace=True)"
   ]
  },
  {
   "cell_type": "markdown",
   "metadata": {},
   "source": [
    "## Visualizing Purchases Based on States\n",
    "\n"
   ]
  },
  {
   "cell_type": "code",
   "execution_count": 13,
   "metadata": {},
   "outputs": [
    {
     "data": {
      "image/png": "[encoded data removed]",
      "text/plain": [
       "<Figure size 1152x432 with 1 Axes>"
      ]
     },
     "metadata": {
      "needs_background": "light"
     },
     "output_type": "display_data"
    }
   ],
   "source": [
    "states = (customerAddressDF['state'].sort_values()).value_counts().keys().tolist()\n",
    "counts = (customerAddressDF['state'].sort_values()).value_counts().tolist()\n",
    "\n",
    "data = sorted(zip(states, counts), key=lambda v: v[1], reverse=True)\n",
    "\n",
    "plt.figure(figsize=(16, 6))\n",
    "for (i, c) in data: \n",
    "    bars = plt.bar(i, c, width=0.2, bottom=None, align='center', data=None, color='cornflowerblue')\n",
    "    plt.annotate(f'{int((c/total)*100)}%\\n', xy=(i, c), va='center', ha='center')\n",
    "plt.xlim(-0.9, len(states) - 1 + 0.9)\n",
    "plt.xlabel('State')\n",
    "plt.ylabel('Number of Customers')\n",
    "plt.title('Location of Customers')\n",
    "plt.show()"
   ]
  },
  {
   "cell_type": "markdown",
   "metadata": {},
   "source": [
    "## Visualizing Purchases Based on States & Gender"
   ]
  },
  {
   "cell_type": "code",
   "execution_count": 14,
   "metadata": {},
   "outputs": [
    {
     "data": {
      "image/png": "[encoded data removed]",
      "text/plain": [
       "<Figure size 1080x720 with 1 Axes>"
      ]
     },
     "metadata": {
      "needs_background": "light"
     },
     "output_type": "display_data"
    }
   ],
   "source": [
    "customerAddressDF = pd.merge(customerAddressDF, df, on='customer_id', how='inner')\n",
    "\n",
    "maleNSW = 0\n",
    "maleVIC = 0\n",
    "maleQLD = 0\n",
    "\n",
    "femaleNSW = 0\n",
    "femaleVIC = 0\n",
    "femaleQLD = 0\n",
    "\n",
    "NSWData = customerAddressDF[customerAddressDF['state']==\"NSW\"]\n",
    "VICData = customerAddressDF[customerAddressDF['state']==\"VIC\"]\n",
    "QLDData = customerAddressDF[customerAddressDF['state']==\"QLD\"]\n",
    "\n",
    "\n",
    "for value in NSWData['gender']:\n",
    "   if(value==\"F\"):\n",
    "    femaleNSW+=1\n",
    "   else: \n",
    "    maleNSW += 1\n",
    "\n",
    "for value in VICData['gender']:\n",
    "   if(value==\"F\"):\n",
    "    femaleVIC+=1\n",
    "   else: \n",
    "    maleVIC += 1\n",
    "\n",
    "for value in QLDData['gender']:\n",
    "   if(value==\"F\"):\n",
    "    femaleQLD+=1\n",
    "   else: \n",
    "    maleQLD += 1\n",
    "\n",
    "    \n",
    "N = 3\n",
    "labels = ['NSW','VIC', 'QLD']\n",
    "male = (maleNSW, maleVIC, maleQLD)\n",
    "female = (femaleNSW, femaleVIC, femaleQLD)\n",
    "ind = np.arange(N)  \n",
    "width = 0.30 \n",
    "\n",
    "figure, axes = plt.subplots()\n",
    "figure.set_size_inches(15, 10, forward=True)\n",
    "plt.bar(ind, male , width, label='Male', color='cornflowerblue')\n",
    "plt.bar(ind + width, female, width, label='Female', color='hotpink')\n",
    "\n",
    "plt.xlabel('States')\n",
    "plt.ylabel('Number of Customers')\n",
    "plt.title('State & Gender Distribution of Customers')\n",
    "\n",
    "plt.xticks(ind + width / 2,  ('NSW','VIC', 'QLD'))\n",
    "\n",
    "for p in axes.patches:\n",
    "    axes.annotate(f'{np.round((p.get_height()/total)*100, decimals=1)}%',\n",
    "                xy=(p.get_x()+p.get_width()/2., p.get_height()),\n",
    "                ha='center',\n",
    "                va='center',\n",
    "                xytext=(0, 10),\n",
    "                textcoords='offset points')\n",
    "    \n",
    "plt.legend(loc='best')\n",
    "plt.show()"
   ]
  }
 ],
 "metadata": {
  "kernelspec": {
   "display_name": "Python 3",
   "language": "python",
   "name": "python3"
  },
  "language_info": {
   "codemirror_mode": {
    "name": "ipython",
    "version": 3
   },
   "file_extension": ".py",
   "mimetype": "text/x-python",
   "name": "python",
   "nbconvert_exporter": "python",
   "pygments_lexer": "ipython3",
   "version": "3.6.9"
  }
 },
 "nbformat": 4,
 "nbformat_minor": 4
}
